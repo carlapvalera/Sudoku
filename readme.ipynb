{
 "cells": [
  {
   "attachments": {},
   "cell_type": "markdown",
   "metadata": {},
   "source": [
    "Sudoku en F#\n",
    "Integrantes: Carla Sunami Perez Valera          c312\n",
    "            Francisco Suares Bellon             c312\n",
    "\n",
    "    Este programa no solo crea sino que tambien resulve sudokus, incluso los creados por si mismo y otros que puedan aparecer por modificacion del mismo usuario, todo esto usando programacion funcional, mas expecificamente F#.\n",
    "\n",
    "Sudo.fs\n",
    "Encontraremos todo tipo de metodos necesarios para resolver una plantilla de sudoku, desde metodos auxiliares hasta el metodo recursivo de solucion, la idea es ir comprobando si es valida la posicion(Is_Valid) y no esta en la columna la fila y subcaja de 3x3 corespondientes metodos( Row, Column,Box), y el metodo d solucion que es recursivo(el cual retorna None si no tiene solucion).\n",
    "Main.fs\n",
    "Encontraremos metodos para crear una plantilla de sudoku valida( puesto que cumple las reglas generales d dicho juego), pero sin saber hasta dicho momento si tiene solucion, ademas d metodos auxiliares"
   ]
  },
  {
   "attachments": {},
   "cell_type": "markdown",
   "metadata": {},
   "source": []
  }
 ],
 "metadata": {
  "language_info": {
   "name": "python"
  },
  "orig_nbformat": 4
 },
 "nbformat": 4,
 "nbformat_minor": 2
}
